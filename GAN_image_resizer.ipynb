{
  "nbformat": 4,
  "nbformat_minor": 0,
  "metadata": {
    "colab": {
      "name": "GAN_image_resizer.ipynb",
      "provenance": [],
      "authorship_tag": "ABX9TyPY72zbMBajdF20BXGbJMj4",
      "include_colab_link": true
    },
    "kernelspec": {
      "name": "python3",
      "display_name": "Python 3"
    },
    "language_info": {
      "name": "python"
    }
  },
  "cells": [
    {
      "cell_type": "markdown",
      "metadata": {
        "id": "view-in-github",
        "colab_type": "text"
      },
      "source": [
        "<a href=\"https://colab.research.google.com/github/yeseul106/GAN_Project/blob/main/GAN_image_resizer.ipynb\" target=\"_parent\"><img src=\"https://colab.research.google.com/assets/colab-badge.svg\" alt=\"Open In Colab\"/></a>"
      ]
    },
    {
      "cell_type": "code",
      "source": [
        "# 구글 드라이브 연결\n",
        "from google.colab import drive\n",
        "drive.mount('/content/drive')"
      ],
      "metadata": {
        "colab": {
          "base_uri": "https://localhost:8080/"
        },
        "id": "aAj0HoOdOKcB",
        "outputId": "cb5f76a0-c284-4d74-9054-1938d8fd1faf"
      },
      "execution_count": null,
      "outputs": [
        {
          "output_type": "stream",
          "name": "stdout",
          "text": [
            "Mounted at /content/drive\n"
          ]
        }
      ]
    },
    {
      "cell_type": "code",
      "execution_count": null,
      "metadata": {
        "colab": {
          "base_uri": "https://localhost:8080/"
        },
        "id": "lV1g0fo3ODTA",
        "outputId": "631eafb7-b241-45ed-d4dd-3ce7b41c35a4"
      },
      "outputs": [
        {
          "output_type": "stream",
          "name": "stdout",
          "text": [
            "resizing...\n",
            "saving file...\n"
          ]
        }
      ],
      "source": [
        "## image_resizer.py\n",
        "# Importing required libraries\n",
        "import os\n",
        "import numpy as np\n",
        "from PIL import Image\n",
        "\n",
        "# Defining an image size and image channel\n",
        "# We are going to resize all our images to 128X128 size and since our images are colored images\n",
        "# We are setting our image channels to 3 (RGB)\n",
        "\n",
        "IMAGE_SIZE = 128\n",
        "IMAGE_CHANNELS = 3\n",
        "IMAGE_DIR = '/content/drive/MyDrive/GAN/Cubism'\n",
        "\n",
        "# Defining image dir path. Change this if you have different directory\n",
        "images_path = IMAGE_DIR \n",
        "\n",
        "training_data = []\n",
        "\n",
        "# Iterating over the images inside the directory and resizing them using\n",
        "# Pillow's resize method.\n",
        "print('resizing...')\n",
        "\n",
        "for filename in os.listdir(images_path):\n",
        "    path = os.path.join(images_path, filename)\n",
        "    image = Image.open(path).resize((IMAGE_SIZE, IMAGE_SIZE), Image.ANTIALIAS)\n",
        "\n",
        "    training_data.append(np.asarray(image))\n",
        "\n",
        "training_data = np.reshape(\n",
        "    training_data, (-1, IMAGE_SIZE, IMAGE_SIZE, IMAGE_CHANNELS))\n",
        "training_data = training_data / 127.5 - 1\n",
        "\n",
        "print('saving file...')\n",
        "np.save('cubism_data.npy', training_data)"
      ]
    }
  ]
}