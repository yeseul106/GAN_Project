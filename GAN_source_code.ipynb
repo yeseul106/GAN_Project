{
  "nbformat": 4,
  "nbformat_minor": 0,
  "metadata": {
    "colab": {
      "name": "GAN_source_code.ipynb",
      "provenance": [],
      "authorship_tag": "ABX9TyPknrpmj9ccnJUOmqEWNA4Z",
      "include_colab_link": true
    },
    "kernelspec": {
      "name": "python3",
      "display_name": "Python 3"
    },
    "language_info": {
      "name": "python"
    },
    "accelerator": "GPU"
  },
  "cells": [
    {
      "cell_type": "markdown",
      "metadata": {
        "id": "view-in-github",
        "colab_type": "text"
      },
      "source": [
        "<a href=\"https://colab.research.google.com/github/yeseul106/GAN_Project/blob/main/GAN_source_code.ipynb\" target=\"_parent\"><img src=\"https://colab.research.google.com/assets/colab-badge.svg\" alt=\"Open In Colab\"/></a>"
      ]
    },
    {
      "cell_type": "code",
      "execution_count": null,
      "metadata": {
        "id": "cud6OYFpwRY9"
      },
      "outputs": [],
      "source": [
        "from keras.layers import Input, Reshape, Dropout, Dense, Flatten, BatchNormalization, Activation, ZeroPadding2D\n",
        "from keras.layers.advanced_activations import LeakyReLU\n",
        "from keras.layers.convolutional import UpSampling2D, Conv2D\n",
        "from keras.models import Sequential, Model, load_model\n",
        "from tensorflow.keras.optimizers import Adam\n",
        "import numpy as np\n",
        "from PIL import Image\n",
        "import os"
      ]
    },
    {
      "cell_type": "code",
      "source": [
        "# 구글 드라이브 연결\n",
        "from google.colab import drive\n",
        "drive.mount('/content/drive')"
      ],
      "metadata": {
        "colab": {
          "base_uri": "https://localhost:8080/"
        },
        "id": "VOYQZIJ4w0YC",
        "outputId": "0cd59754-dd18-42df-8c5e-f7c7c623029f"
      },
      "execution_count": null,
      "outputs": [
        {
          "output_type": "stream",
          "name": "stdout",
          "text": [
            "Mounted at /content/drive\n"
          ]
        }
      ]
    },
    {
      "cell_type": "code",
      "source": [
        "# Preview image Frame\n",
        "PREVIEW_ROWS = 4\n",
        "PREVIEW_COLS = 7\n",
        "PREVIEW_MARGIN = 4\n",
        "SAVE_FREQ = 100\n",
        "# Size vector to generate images from\n",
        "NOISE_SIZE = 100\n",
        "# Configuration\n",
        "EPOCHS = 10000 # number of iterations\n",
        "BATCH_SIZE = 32\n",
        "GENERATE_RES = 3\n",
        "IMAGE_SIZE = 128 # rows/cols\n",
        "IMAGE_CHANNELS = 3"
      ],
      "metadata": {
        "id": "SfFw2QCqxZ_C"
      },
      "execution_count": null,
      "outputs": []
    },
    {
      "cell_type": "code",
      "source": [
        "training_data = np.load('/content/drive/MyDrive/cubism_data.npy')  # 파일 저장 위치는 알맞게 고쳐서 !"
      ],
      "metadata": {
        "id": "LYf7ilbVxi0A"
      },
      "execution_count": null,
      "outputs": []
    },
    {
      "cell_type": "code",
      "source": [
        "# 데이터 잘 들어갔는지 확인\n",
        "print(\"npy file shape: \", training_data.shape)"
      ],
      "metadata": {
        "colab": {
          "base_uri": "https://localhost:8080/"
        },
        "id": "P-NutVSa7wq6",
        "outputId": "8bdfef40-5c3e-4115-ebd1-f9d32f815f76"
      },
      "execution_count": null,
      "outputs": [
        {
          "output_type": "stream",
          "name": "stdout",
          "text": [
            "npy file shape:  (2235, 128, 128, 3)\n"
          ]
        }
      ]
    },
    {
      "cell_type": "code",
      "source": [
        "def build_discriminator(image_shape):\n",
        "    model = Sequential()\n",
        "    model.add(Conv2D(32, kernel_size=3, strides=2,\n",
        "    input_shape=image_shape, padding=\"same\"))\n",
        "    model.add(LeakyReLU(alpha=0.2))\n",
        "    model.add(Dropout(0.25))\n",
        "    model.add(Conv2D(64, kernel_size=3, strides=2, padding=\"same\"))\n",
        "    model.add(ZeroPadding2D(padding=((0, 1), (0, 1))))\n",
        "    model.add(BatchNormalization(momentum=0.8))\n",
        "    model.add(LeakyReLU(alpha=0.2))\n",
        "    model.add(Dropout(0.25))\n",
        "    model.add(Conv2D(128, kernel_size=3, strides=2, padding=\"same\"))\n",
        "    model.add(BatchNormalization(momentum=0.8))\n",
        "    model.add(LeakyReLU(alpha=0.2))\n",
        "    model.add(Dropout(0.25))\n",
        "    model.add(Conv2D(256, kernel_size=3, strides=1, padding=\"same\"))\n",
        "    model.add(BatchNormalization(momentum=0.8))\n",
        "    model.add(LeakyReLU(alpha=0.2))\n",
        "    model.add(Dropout(0.25))\n",
        "    model.add(Conv2D(512, kernel_size=3, strides=1, padding=\"same\"))\n",
        "    model.add(BatchNormalization(momentum=0.8))\n",
        "    model.add(LeakyReLU(alpha=0.2))\n",
        "    model.add(Dropout(0.25))\n",
        "    model.add(Flatten())\n",
        "    model.add(Dense(1, activation='sigmoid'))\n",
        "    input_image = Input(shape=image_shape)\n",
        "    validity = model(input_image)\n",
        "    return Model(input_image, validity)"
      ],
      "metadata": {
        "id": "GyQIyP4pLnMw"
      },
      "execution_count": null,
      "outputs": []
    },
    {
      "cell_type": "code",
      "source": [
        "def build_generator(noise_size, channels):\n",
        "    model = Sequential()\n",
        "    model.add(Dense(4 * 4 * 256, activation=\"relu\", input_dim = noise_size))\n",
        "    model.add(Reshape((4, 4, 256)))\n",
        "    model.add(UpSampling2D())\n",
        "    model.add(Conv2D(256, kernel_size=3, padding=\"same\"))\n",
        "    model.add(BatchNormalization(momentum=0.8))\n",
        "    model.add(Activation(\"relu\"))\n",
        "    model.add(UpSampling2D())\n",
        "    model.add(Conv2D(256, kernel_size=3, padding=\"same\"))\n",
        "    model.add(BatchNormalization(momentum=0.8))\n",
        "    model.add(Activation(\"relu\"))\n",
        "    \n",
        "    for i in range(GENERATE_RES):\n",
        "        model.add(UpSampling2D())\n",
        "        model.add(Conv2D(256, kernel_size=3, padding=\"same\"))\n",
        "        model.add(BatchNormalization(momentum=0.8))\n",
        "        model.add(Activation(\"relu\"))\n",
        "      \n",
        "    model.summary()\n",
        "    model.add(Conv2D(channels, kernel_size=3, padding=\"same\"))\n",
        "    model.add(Activation(\"tanh\"))\n",
        "    input = Input(shape=(noise_size,))\n",
        "    generated_image = model(input)\n",
        "\n",
        "    return Model(input, generated_image)"
      ],
      "metadata": {
        "id": "a4WXdFNLeSS2"
      },
      "execution_count": null,
      "outputs": []
    },
    {
      "cell_type": "code",
      "source": [
        "def save_images(cnt, noise):\n",
        "    image_array = np.full((\n",
        "        PREVIEW_MARGIN + (PREVIEW_ROWS * (IMAGE_SIZE + PREVIEW_MARGIN)),\n",
        "        PREVIEW_MARGIN + (PREVIEW_COLS * (IMAGE_SIZE + PREVIEW_MARGIN)), 3),\n",
        "        255, dtype=np.uint8)\n",
        "    generated_images = generator.predict(noise)\n",
        "    generated_images = 0.5 * generated_images + 0.5\n",
        "    image_count = 0\n",
        "    for row in range(PREVIEW_ROWS):\n",
        "        for col in range(PREVIEW_COLS):\n",
        "            r = row * (IMAGE_SIZE + PREVIEW_MARGIN) + PREVIEW_MARGIN\n",
        "            c = col * (IMAGE_SIZE + PREVIEW_MARGIN) + PREVIEW_MARGIN\n",
        "            image_array[r:r + IMAGE_SIZE, c:c +\n",
        "                        IMAGE_SIZE] = generated_images[image_count] * 255\n",
        "            image_count += 1\n",
        "    output_path = 'output'\n",
        "    if not os.path.exists(output_path):\n",
        "        os.makedirs(output_path)\n",
        "    filename = os.path.join(output_path, f\"trained-{cnt}.png\")\n",
        "    im = Image.fromarray(image_array)\n",
        "    im.save(filename)"
      ],
      "metadata": {
        "id": "jiT8vIvYeWGN"
      },
      "execution_count": null,
      "outputs": []
    },
    {
      "cell_type": "code",
      "source": [
        "image_shape = (IMAGE_SIZE, IMAGE_SIZE, IMAGE_CHANNELS)\n",
        "optimizer = Adam(1.5e-4, 0.5)\n",
        "discriminator = build_discriminator(image_shape)\n",
        "discriminator.compile(loss=\"binary_crossentropy\",\n",
        "optimizer = optimizer, metrics = [\"accuracy\"])\n",
        "generator = build_generator(NOISE_SIZE, IMAGE_CHANNELS)\n",
        "random_input = Input(shape=(NOISE_SIZE,))\n",
        "generated_image = generator(random_input)\n",
        "discriminator.trainable = False\n",
        "print(\"생성된 이미지 사이즈: \", generated_image.shape)\n",
        "\n",
        "validity = discriminator(generated_image)\n",
        "combined = Model(random_input, validity)\n",
        "combined.compile(loss=\"binary_crossentropy\",\n",
        "optimizer = optimizer, metrics = [\"accuracy\"])\n",
        "y_real = np.ones((BATCH_SIZE, 1))\n",
        "y_fake = np.zeros((BATCH_SIZE, 1))\n",
        "fixed_noise = np.random.normal(0, 1, (PREVIEW_ROWS * PREVIEW_COLS, NOISE_SIZE))"
      ],
      "metadata": {
        "id": "LN0CsKwVeZ04",
        "colab": {
          "base_uri": "https://localhost:8080/"
        },
        "outputId": "7e44d5d9-856b-4f31-c6c5-0a9aa702d614"
      },
      "execution_count": null,
      "outputs": [
        {
          "output_type": "stream",
          "name": "stdout",
          "text": [
            "Model: \"sequential_7\"\n",
            "_________________________________________________________________\n",
            " Layer (type)                Output Shape              Param #   \n",
            "=================================================================\n",
            " dense_7 (Dense)             (None, 4096)              413696    \n",
            "                                                                 \n",
            " reshape_3 (Reshape)         (None, 4, 4, 256)         0         \n",
            "                                                                 \n",
            " up_sampling2d_9 (UpSampling  (None, 8, 8, 256)        0         \n",
            " 2D)                                                             \n",
            "                                                                 \n",
            " conv2d_32 (Conv2D)          (None, 8, 8, 256)         590080    \n",
            "                                                                 \n",
            " batch_normalization_25 (Bat  (None, 8, 8, 256)        1024      \n",
            " chNormalization)                                                \n",
            "                                                                 \n",
            " activation_12 (Activation)  (None, 8, 8, 256)         0         \n",
            "                                                                 \n",
            " up_sampling2d_10 (UpSamplin  (None, 16, 16, 256)      0         \n",
            " g2D)                                                            \n",
            "                                                                 \n",
            " conv2d_33 (Conv2D)          (None, 16, 16, 256)       590080    \n",
            "                                                                 \n",
            " batch_normalization_26 (Bat  (None, 16, 16, 256)      1024      \n",
            " chNormalization)                                                \n",
            "                                                                 \n",
            " activation_13 (Activation)  (None, 16, 16, 256)       0         \n",
            "                                                                 \n",
            " up_sampling2d_11 (UpSamplin  (None, 32, 32, 256)      0         \n",
            " g2D)                                                            \n",
            "                                                                 \n",
            " conv2d_34 (Conv2D)          (None, 32, 32, 256)       590080    \n",
            "                                                                 \n",
            " batch_normalization_27 (Bat  (None, 32, 32, 256)      1024      \n",
            " chNormalization)                                                \n",
            "                                                                 \n",
            " activation_14 (Activation)  (None, 32, 32, 256)       0         \n",
            "                                                                 \n",
            " up_sampling2d_12 (UpSamplin  (None, 64, 64, 256)      0         \n",
            " g2D)                                                            \n",
            "                                                                 \n",
            " conv2d_35 (Conv2D)          (None, 64, 64, 256)       590080    \n",
            "                                                                 \n",
            " batch_normalization_28 (Bat  (None, 64, 64, 256)      1024      \n",
            " chNormalization)                                                \n",
            "                                                                 \n",
            " activation_15 (Activation)  (None, 64, 64, 256)       0         \n",
            "                                                                 \n",
            " up_sampling2d_13 (UpSamplin  (None, 128, 128, 256)    0         \n",
            " g2D)                                                            \n",
            "                                                                 \n",
            " conv2d_36 (Conv2D)          (None, 128, 128, 256)     590080    \n",
            "                                                                 \n",
            " batch_normalization_29 (Bat  (None, 128, 128, 256)    1024      \n",
            " chNormalization)                                                \n",
            "                                                                 \n",
            " activation_16 (Activation)  (None, 128, 128, 256)     0         \n",
            "                                                                 \n",
            "=================================================================\n",
            "Total params: 3,369,216\n",
            "Trainable params: 3,366,656\n",
            "Non-trainable params: 2,560\n",
            "_________________________________________________________________\n",
            "생성된 이미지 사이즈:  (None, 128, 128, 3)\n"
          ]
        }
      ]
    },
    {
      "cell_type": "code",
      "source": [
        "cnt = 1\n",
        "for epoch in range(EPOCHS):\n",
        " idx = np.random.randint(0, training_data.shape[0], BATCH_SIZE)\n",
        " x_real = training_data[idx]\n",
        " \n",
        " noise= np.random.normal(0, 1, (BATCH_SIZE, NOISE_SIZE))\n",
        " x_fake = generator.predict(noise)\n",
        " \n",
        " discriminator_metric_real = discriminator.train_on_batch(x_real, y_real)\n",
        " discriminator_metric_generated = discriminator.train_on_batch(x_fake, y_fake)\n",
        " \n",
        " discriminator_metric = 0.5 * np.add(discriminator_metric_real, discriminator_metric_generated)\n",
        " generator_metric = combined.train_on_batch(noise, y_real)\n",
        " \n",
        " if epoch % SAVE_FREQ == 0:\n",
        "   save_images(cnt, fixed_noise)\n",
        "   cnt += 1\n",
        " \n",
        "   print(f\"{epoch} epoch, Discriminator accuracy: {100*  discriminator_metric[1]}, Generator accuracy: {100 * generator_metric[1]}\")"
      ],
      "metadata": {
        "id": "1j7eB80Bedd3"
      },
      "execution_count": null,
      "outputs": []
    }
  ]
}